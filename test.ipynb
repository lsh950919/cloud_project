{
 "cells": [
  {
   "cell_type": "code",
   "execution_count": 6,
   "metadata": {},
   "outputs": [],
   "source": [
    "import os\n",
    "import numpy as np\n",
    "from glob import glob\n",
    "import pandas as pd\n",
    "import polars as pl\n",
    "from natsort import natsorted\n",
    "from tqdm import tqdm"
   ]
  },
  {
   "cell_type": "code",
   "execution_count": 7,
   "metadata": {},
   "outputs": [
    {
     "name": "stdout",
     "output_type": "stream",
     "text": [
      "(2013766, 11)\n"
     ]
    },
    {
     "data": {
      "text/html": [
       "<div>\n",
       "<style scoped>\n",
       "    .dataframe tbody tr th:only-of-type {\n",
       "        vertical-align: middle;\n",
       "    }\n",
       "\n",
       "    .dataframe tbody tr th {\n",
       "        vertical-align: top;\n",
       "    }\n",
       "\n",
       "    .dataframe thead th {\n",
       "        text-align: right;\n",
       "    }\n",
       "</style>\n",
       "<table border=\"1\" class=\"dataframe\">\n",
       "  <thead>\n",
       "    <tr style=\"text-align: right;\">\n",
       "      <th></th>\n",
       "      <th>vm id</th>\n",
       "      <th>subscription id</th>\n",
       "      <th>deployment id</th>\n",
       "      <th>timestamp vm created</th>\n",
       "      <th>timestamp vm deleted</th>\n",
       "      <th>max cpu</th>\n",
       "      <th>avg cpu</th>\n",
       "      <th>p95 max cpu</th>\n",
       "      <th>vm category</th>\n",
       "      <th>vm virtual core count</th>\n",
       "      <th>vm memory (gb)</th>\n",
       "    </tr>\n",
       "  </thead>\n",
       "  <tbody>\n",
       "    <tr>\n",
       "      <th>0</th>\n",
       "      <td>H5CxmMoVcZSpjgGbohnVA3R+7uCTe/hM2ht2uIYi3t7KwX...</td>\n",
       "      <td>BSXOcywx8pUU0DueDo6UMol1YzR6tn47KLEKaoXp0a1bf2...</td>\n",
       "      <td>3J17LcV4gXjFat62qhVFRfoiWArHnY763HVqqI6orJCfV8...</td>\n",
       "      <td>0</td>\n",
       "      <td>1539300</td>\n",
       "      <td>100.000000</td>\n",
       "      <td>6.181784</td>\n",
       "      <td>33.981360</td>\n",
       "      <td>Interactive</td>\n",
       "      <td>1</td>\n",
       "      <td>0.75</td>\n",
       "    </tr>\n",
       "    <tr>\n",
       "      <th>1</th>\n",
       "      <td>wR/G1YUjpMP4zUbxGM/XJNhYS8cAK3SGKM2tqhF7VdeTUY...</td>\n",
       "      <td>VDU4C8cqdr+ORcqquwMRcsBA2l0SC6lCPys0wdghKROuxP...</td>\n",
       "      <td>Pc2VLB8aDxK2DCC96itq4vW/zVDp4wioAUiB3HoGSFYQ0o...</td>\n",
       "      <td>2188800</td>\n",
       "      <td>2591700</td>\n",
       "      <td>99.569027</td>\n",
       "      <td>3.573635</td>\n",
       "      <td>7.924250</td>\n",
       "      <td>Delay-insensitive</td>\n",
       "      <td>1</td>\n",
       "      <td>1.75</td>\n",
       "    </tr>\n",
       "    <tr>\n",
       "      <th>2</th>\n",
       "      <td>1XiU+KpvIa3T1XP8kk3ZY71Of03+ogFL5Pag9Mc2jBuh0Y...</td>\n",
       "      <td>8u+M3WcFp8pq183WoMB79PhK7xUzbaviOBv0qWN6Xn4mbu...</td>\n",
       "      <td>DHbeI+pYTYFjH8JAF8SewM0z/4SqQctvxcBRGIRglBmeLW...</td>\n",
       "      <td>0</td>\n",
       "      <td>2591700</td>\n",
       "      <td>99.405085</td>\n",
       "      <td>16.287611</td>\n",
       "      <td>95.697890</td>\n",
       "      <td>Delay-insensitive</td>\n",
       "      <td>8</td>\n",
       "      <td>56.00</td>\n",
       "    </tr>\n",
       "    <tr>\n",
       "      <th>3</th>\n",
       "      <td>z5i2HiSaz6ZdLR6PXdnDjGva3jIlkMPXx23VtfXx9q3dXF...</td>\n",
       "      <td>VDU4C8cqdr+ORcqquwMRcsBA2l0SC6lCPys0wdghKROuxP...</td>\n",
       "      <td>Pc2VLB8aDxK2DCC96itq4vW/zVDp4wioAUiB3HoGSFYQ0o...</td>\n",
       "      <td>0</td>\n",
       "      <td>2188500</td>\n",
       "      <td>98.967961</td>\n",
       "      <td>3.036038</td>\n",
       "      <td>9.445484</td>\n",
       "      <td>Delay-insensitive</td>\n",
       "      <td>1</td>\n",
       "      <td>1.75</td>\n",
       "    </tr>\n",
       "    <tr>\n",
       "      <th>4</th>\n",
       "      <td>n77nP00/UpJmT+Yx1ZkDphvAqPoHU8yUpDCwyUtPNlRENq...</td>\n",
       "      <td>8u+M3WcFp8pq183WoMB79PhK7xUzbaviOBv0qWN6Xn4mbu...</td>\n",
       "      <td>DHbeI+pYTYFjH8JAF8SewM0z/4SqQctvxcBRGIRglBmeLW...</td>\n",
       "      <td>0</td>\n",
       "      <td>2591700</td>\n",
       "      <td>99.448473</td>\n",
       "      <td>34.174012</td>\n",
       "      <td>98.553018</td>\n",
       "      <td>Delay-insensitive</td>\n",
       "      <td>8</td>\n",
       "      <td>56.00</td>\n",
       "    </tr>\n",
       "  </tbody>\n",
       "</table>\n",
       "</div>"
      ],
      "text/plain": [
       "                                               vm id  \\\n",
       "0  H5CxmMoVcZSpjgGbohnVA3R+7uCTe/hM2ht2uIYi3t7KwX...   \n",
       "1  wR/G1YUjpMP4zUbxGM/XJNhYS8cAK3SGKM2tqhF7VdeTUY...   \n",
       "2  1XiU+KpvIa3T1XP8kk3ZY71Of03+ogFL5Pag9Mc2jBuh0Y...   \n",
       "3  z5i2HiSaz6ZdLR6PXdnDjGva3jIlkMPXx23VtfXx9q3dXF...   \n",
       "4  n77nP00/UpJmT+Yx1ZkDphvAqPoHU8yUpDCwyUtPNlRENq...   \n",
       "\n",
       "                                     subscription id  \\\n",
       "0  BSXOcywx8pUU0DueDo6UMol1YzR6tn47KLEKaoXp0a1bf2...   \n",
       "1  VDU4C8cqdr+ORcqquwMRcsBA2l0SC6lCPys0wdghKROuxP...   \n",
       "2  8u+M3WcFp8pq183WoMB79PhK7xUzbaviOBv0qWN6Xn4mbu...   \n",
       "3  VDU4C8cqdr+ORcqquwMRcsBA2l0SC6lCPys0wdghKROuxP...   \n",
       "4  8u+M3WcFp8pq183WoMB79PhK7xUzbaviOBv0qWN6Xn4mbu...   \n",
       "\n",
       "                                       deployment id  timestamp vm created  \\\n",
       "0  3J17LcV4gXjFat62qhVFRfoiWArHnY763HVqqI6orJCfV8...                     0   \n",
       "1  Pc2VLB8aDxK2DCC96itq4vW/zVDp4wioAUiB3HoGSFYQ0o...               2188800   \n",
       "2  DHbeI+pYTYFjH8JAF8SewM0z/4SqQctvxcBRGIRglBmeLW...                     0   \n",
       "3  Pc2VLB8aDxK2DCC96itq4vW/zVDp4wioAUiB3HoGSFYQ0o...                     0   \n",
       "4  DHbeI+pYTYFjH8JAF8SewM0z/4SqQctvxcBRGIRglBmeLW...                     0   \n",
       "\n",
       "   timestamp vm deleted     max cpu    avg cpu  p95 max cpu  \\\n",
       "0               1539300  100.000000   6.181784    33.981360   \n",
       "1               2591700   99.569027   3.573635     7.924250   \n",
       "2               2591700   99.405085  16.287611    95.697890   \n",
       "3               2188500   98.967961   3.036038     9.445484   \n",
       "4               2591700   99.448473  34.174012    98.553018   \n",
       "\n",
       "         vm category  vm virtual core count  vm memory (gb)  \n",
       "0        Interactive                      1            0.75  \n",
       "1  Delay-insensitive                      1            1.75  \n",
       "2  Delay-insensitive                      8           56.00  \n",
       "3  Delay-insensitive                      1            1.75  \n",
       "4  Delay-insensitive                      8           56.00  "
      ]
     },
     "execution_count": 7,
     "metadata": {},
     "output_type": "execute_result"
    }
   ],
   "source": [
    "vm_table = pd.read_csv('data/vmtable.csv')\n",
    "vm_table.columns = [content.split(',')[2] for content in open('data/schema.csv').readlines() if content.startswith('vmtable')]\n",
    "print(vm_table.shape)\n",
    "vm_table.head()"
   ]
  },
  {
   "cell_type": "code",
   "execution_count": 8,
   "metadata": {},
   "outputs": [],
   "source": [
    "vm_long = vm_table[(((vm_table['timestamp vm deleted'] - vm_table['timestamp vm created']) / 300) >= 60*24)]"
   ]
  },
  {
   "cell_type": "code",
   "execution_count": 9,
   "metadata": {},
   "outputs": [
    {
     "data": {
      "text/html": [
       "<div>\n",
       "<style scoped>\n",
       "    .dataframe tbody tr th:only-of-type {\n",
       "        vertical-align: middle;\n",
       "    }\n",
       "\n",
       "    .dataframe tbody tr th {\n",
       "        vertical-align: top;\n",
       "    }\n",
       "\n",
       "    .dataframe thead th {\n",
       "        text-align: right;\n",
       "    }\n",
       "</style>\n",
       "<table border=\"1\" class=\"dataframe\">\n",
       "  <thead>\n",
       "    <tr style=\"text-align: right;\">\n",
       "      <th></th>\n",
       "      <th>vm id</th>\n",
       "      <th>subscription id</th>\n",
       "      <th>deployment id</th>\n",
       "      <th>vm category</th>\n",
       "      <th>vm virtual core count</th>\n",
       "      <th>vm memory (gb)</th>\n",
       "    </tr>\n",
       "  </thead>\n",
       "  <tbody>\n",
       "    <tr>\n",
       "      <th>0</th>\n",
       "      <td>H5CxmMoVcZSpjgGbohnVA3R+7uCTe/hM2ht2uIYi3t7KwX...</td>\n",
       "      <td>BSXOcywx8pUU0DueDo6UMol1YzR6tn47KLEKaoXp0a1bf2...</td>\n",
       "      <td>3J17LcV4gXjFat62qhVFRfoiWArHnY763HVqqI6orJCfV8...</td>\n",
       "      <td>Interactive</td>\n",
       "      <td>1</td>\n",
       "      <td>0.75</td>\n",
       "    </tr>\n",
       "    <tr>\n",
       "      <th>2</th>\n",
       "      <td>1XiU+KpvIa3T1XP8kk3ZY71Of03+ogFL5Pag9Mc2jBuh0Y...</td>\n",
       "      <td>8u+M3WcFp8pq183WoMB79PhK7xUzbaviOBv0qWN6Xn4mbu...</td>\n",
       "      <td>DHbeI+pYTYFjH8JAF8SewM0z/4SqQctvxcBRGIRglBmeLW...</td>\n",
       "      <td>Delay-insensitive</td>\n",
       "      <td>8</td>\n",
       "      <td>56.00</td>\n",
       "    </tr>\n",
       "    <tr>\n",
       "      <th>3</th>\n",
       "      <td>z5i2HiSaz6ZdLR6PXdnDjGva3jIlkMPXx23VtfXx9q3dXF...</td>\n",
       "      <td>VDU4C8cqdr+ORcqquwMRcsBA2l0SC6lCPys0wdghKROuxP...</td>\n",
       "      <td>Pc2VLB8aDxK2DCC96itq4vW/zVDp4wioAUiB3HoGSFYQ0o...</td>\n",
       "      <td>Delay-insensitive</td>\n",
       "      <td>1</td>\n",
       "      <td>1.75</td>\n",
       "    </tr>\n",
       "    <tr>\n",
       "      <th>4</th>\n",
       "      <td>n77nP00/UpJmT+Yx1ZkDphvAqPoHU8yUpDCwyUtPNlRENq...</td>\n",
       "      <td>8u+M3WcFp8pq183WoMB79PhK7xUzbaviOBv0qWN6Xn4mbu...</td>\n",
       "      <td>DHbeI+pYTYFjH8JAF8SewM0z/4SqQctvxcBRGIRglBmeLW...</td>\n",
       "      <td>Delay-insensitive</td>\n",
       "      <td>8</td>\n",
       "      <td>56.00</td>\n",
       "    </tr>\n",
       "    <tr>\n",
       "      <th>6</th>\n",
       "      <td>uSkGH3DS6BVo3RFnw3GZb6WCFSmGgvgKi4HIj08yxO4f5l...</td>\n",
       "      <td>8u+M3WcFp8pq183WoMB79PhK7xUzbaviOBv0qWN6Xn4mbu...</td>\n",
       "      <td>DHbeI+pYTYFjH8JAF8SewM0z/4SqQctvxcBRGIRglBmeLW...</td>\n",
       "      <td>Delay-insensitive</td>\n",
       "      <td>8</td>\n",
       "      <td>56.00</td>\n",
       "    </tr>\n",
       "    <tr>\n",
       "      <th>...</th>\n",
       "      <td>...</td>\n",
       "      <td>...</td>\n",
       "      <td>...</td>\n",
       "      <td>...</td>\n",
       "      <td>...</td>\n",
       "      <td>...</td>\n",
       "    </tr>\n",
       "    <tr>\n",
       "      <th>2013759</th>\n",
       "      <td>0W/GXlz86P16T19SjjSyOkJbNT71qnSvJAZODSxxC0snQt...</td>\n",
       "      <td>3KYB4oZzTGz1Kjr8DX8pqMZLgmbsH4Z4xoqs/RNyrgmmvi...</td>\n",
       "      <td>fYha54PSPDfjrdfBxH5tFmCtCT+IINY3rsgPegEBQj03If...</td>\n",
       "      <td>Interactive</td>\n",
       "      <td>2</td>\n",
       "      <td>3.50</td>\n",
       "    </tr>\n",
       "    <tr>\n",
       "      <th>2013760</th>\n",
       "      <td>NcEsLNFOZQiuD2uvyFpaOC7FJXIDBqqrTh9pAiHstZBQT6...</td>\n",
       "      <td>3KYB4oZzTGz1Kjr8DX8pqMZLgmbsH4Z4xoqs/RNyrgmmvi...</td>\n",
       "      <td>fYha54PSPDfjrdfBxH5tFmCtCT+IINY3rsgPegEBQj03If...</td>\n",
       "      <td>Interactive</td>\n",
       "      <td>2</td>\n",
       "      <td>3.50</td>\n",
       "    </tr>\n",
       "    <tr>\n",
       "      <th>2013763</th>\n",
       "      <td>1UHZb9fC7yztxXgW4DP/Mnmco/krJrwESOgda4BqX+4nMF...</td>\n",
       "      <td>qmftcYuQnjoTysaaE0UGTDh+KioEXTVzK/aPqbh74eoVbB...</td>\n",
       "      <td>8VEV+1xHOwGOUTmt4MohluwLOR4L3/Uk++pnDlxJHTreVL...</td>\n",
       "      <td>Delay-insensitive</td>\n",
       "      <td>2</td>\n",
       "      <td>3.50</td>\n",
       "    </tr>\n",
       "    <tr>\n",
       "      <th>2013764</th>\n",
       "      <td>WVoXuJYE6oPeR38v6zEyL8etSyCP32UM7JSrv1TWmgdl7e...</td>\n",
       "      <td>qmftcYuQnjoTysaaE0UGTDh+KioEXTVzK/aPqbh74eoVbB...</td>\n",
       "      <td>8VEV+1xHOwGOUTmt4MohluwLOR4L3/Uk++pnDlxJHTreVL...</td>\n",
       "      <td>Interactive</td>\n",
       "      <td>2</td>\n",
       "      <td>3.50</td>\n",
       "    </tr>\n",
       "    <tr>\n",
       "      <th>2013765</th>\n",
       "      <td>/Z6/BBiQTOjcZhypk67tDMcwsb/1mVfwO/v94YWeEDpgql...</td>\n",
       "      <td>qmftcYuQnjoTysaaE0UGTDh+KioEXTVzK/aPqbh74eoVbB...</td>\n",
       "      <td>8VEV+1xHOwGOUTmt4MohluwLOR4L3/Uk++pnDlxJHTreVL...</td>\n",
       "      <td>Delay-insensitive</td>\n",
       "      <td>2</td>\n",
       "      <td>3.50</td>\n",
       "    </tr>\n",
       "  </tbody>\n",
       "</table>\n",
       "<p>162918 rows × 6 columns</p>\n",
       "</div>"
      ],
      "text/plain": [
       "                                                     vm id  \\\n",
       "0        H5CxmMoVcZSpjgGbohnVA3R+7uCTe/hM2ht2uIYi3t7KwX...   \n",
       "2        1XiU+KpvIa3T1XP8kk3ZY71Of03+ogFL5Pag9Mc2jBuh0Y...   \n",
       "3        z5i2HiSaz6ZdLR6PXdnDjGva3jIlkMPXx23VtfXx9q3dXF...   \n",
       "4        n77nP00/UpJmT+Yx1ZkDphvAqPoHU8yUpDCwyUtPNlRENq...   \n",
       "6        uSkGH3DS6BVo3RFnw3GZb6WCFSmGgvgKi4HIj08yxO4f5l...   \n",
       "...                                                    ...   \n",
       "2013759  0W/GXlz86P16T19SjjSyOkJbNT71qnSvJAZODSxxC0snQt...   \n",
       "2013760  NcEsLNFOZQiuD2uvyFpaOC7FJXIDBqqrTh9pAiHstZBQT6...   \n",
       "2013763  1UHZb9fC7yztxXgW4DP/Mnmco/krJrwESOgda4BqX+4nMF...   \n",
       "2013764  WVoXuJYE6oPeR38v6zEyL8etSyCP32UM7JSrv1TWmgdl7e...   \n",
       "2013765  /Z6/BBiQTOjcZhypk67tDMcwsb/1mVfwO/v94YWeEDpgql...   \n",
       "\n",
       "                                           subscription id  \\\n",
       "0        BSXOcywx8pUU0DueDo6UMol1YzR6tn47KLEKaoXp0a1bf2...   \n",
       "2        8u+M3WcFp8pq183WoMB79PhK7xUzbaviOBv0qWN6Xn4mbu...   \n",
       "3        VDU4C8cqdr+ORcqquwMRcsBA2l0SC6lCPys0wdghKROuxP...   \n",
       "4        8u+M3WcFp8pq183WoMB79PhK7xUzbaviOBv0qWN6Xn4mbu...   \n",
       "6        8u+M3WcFp8pq183WoMB79PhK7xUzbaviOBv0qWN6Xn4mbu...   \n",
       "...                                                    ...   \n",
       "2013759  3KYB4oZzTGz1Kjr8DX8pqMZLgmbsH4Z4xoqs/RNyrgmmvi...   \n",
       "2013760  3KYB4oZzTGz1Kjr8DX8pqMZLgmbsH4Z4xoqs/RNyrgmmvi...   \n",
       "2013763  qmftcYuQnjoTysaaE0UGTDh+KioEXTVzK/aPqbh74eoVbB...   \n",
       "2013764  qmftcYuQnjoTysaaE0UGTDh+KioEXTVzK/aPqbh74eoVbB...   \n",
       "2013765  qmftcYuQnjoTysaaE0UGTDh+KioEXTVzK/aPqbh74eoVbB...   \n",
       "\n",
       "                                             deployment id        vm category  \\\n",
       "0        3J17LcV4gXjFat62qhVFRfoiWArHnY763HVqqI6orJCfV8...        Interactive   \n",
       "2        DHbeI+pYTYFjH8JAF8SewM0z/4SqQctvxcBRGIRglBmeLW...  Delay-insensitive   \n",
       "3        Pc2VLB8aDxK2DCC96itq4vW/zVDp4wioAUiB3HoGSFYQ0o...  Delay-insensitive   \n",
       "4        DHbeI+pYTYFjH8JAF8SewM0z/4SqQctvxcBRGIRglBmeLW...  Delay-insensitive   \n",
       "6        DHbeI+pYTYFjH8JAF8SewM0z/4SqQctvxcBRGIRglBmeLW...  Delay-insensitive   \n",
       "...                                                    ...                ...   \n",
       "2013759  fYha54PSPDfjrdfBxH5tFmCtCT+IINY3rsgPegEBQj03If...        Interactive   \n",
       "2013760  fYha54PSPDfjrdfBxH5tFmCtCT+IINY3rsgPegEBQj03If...        Interactive   \n",
       "2013763  8VEV+1xHOwGOUTmt4MohluwLOR4L3/Uk++pnDlxJHTreVL...  Delay-insensitive   \n",
       "2013764  8VEV+1xHOwGOUTmt4MohluwLOR4L3/Uk++pnDlxJHTreVL...        Interactive   \n",
       "2013765  8VEV+1xHOwGOUTmt4MohluwLOR4L3/Uk++pnDlxJHTreVL...  Delay-insensitive   \n",
       "\n",
       "         vm virtual core count  vm memory (gb)  \n",
       "0                            1            0.75  \n",
       "2                            8           56.00  \n",
       "3                            1            1.75  \n",
       "4                            8           56.00  \n",
       "6                            8           56.00  \n",
       "...                        ...             ...  \n",
       "2013759                      2            3.50  \n",
       "2013760                      2            3.50  \n",
       "2013763                      2            3.50  \n",
       "2013764                      2            3.50  \n",
       "2013765                      2            3.50  \n",
       "\n",
       "[162918 rows x 6 columns]"
      ]
     },
     "execution_count": 9,
     "metadata": {},
     "output_type": "execute_result"
    }
   ],
   "source": [
    "vm_long[['vm id', 'subscription id', 'deployment id', 'vm category', 'vm virtual core count', 'vm memory (gb)']]"
   ]
  },
  {
   "cell_type": "code",
   "execution_count": 20,
   "metadata": {},
   "outputs": [],
   "source": [
    "a = [content.split(',')[2] for content in open('data/schema.csv').readlines() if content.startswith('vm_cpu_readings')]\n",
    "df = pd.read_csv('/scratch/lhk/cpu_readings//vm_cpu_readings-file-12-of-125.csv')\n",
    "df.columns = a"
   ]
  },
  {
   "cell_type": "code",
   "execution_count": 21,
   "metadata": {},
   "outputs": [],
   "source": [
    "test = df[df['vm id'].isin(vm_long['vm id'])].pivot_table(index = 'vm id', columns = 'timestamp', values = 'avg cpu')"
   ]
  },
  {
   "cell_type": "code",
   "execution_count": 23,
   "metadata": {},
   "outputs": [],
   "source": [
    "test = test[[columns for columns in test.columns if columns % 300 == 0]]"
   ]
  },
  {
   "cell_type": "code",
   "execution_count": 30,
   "metadata": {},
   "outputs": [
    {
     "data": {
      "text/plain": [
       "array([      nan, 15.405452, 11.605753, 11.583188, 11.465624, 11.726559,\n",
       "       11.397757, 11.785649, 11.788864, 11.529121, 11.224122, 11.64219 ,\n",
       "       11.145099, 15.752359, 11.683939, 10.963064, 11.671251, 11.754603,\n",
       "       11.427817, 11.129736, 11.632048, 11.140932, 11.235749, 11.73503 ,\n",
       "       11.138042, 16.015151, 11.157592, 11.465445, 11.02028 , 11.523985,\n",
       "       10.970651, 11.179077, 11.477295, 11.107764, 11.795765, 11.444804,\n",
       "       11.748765, 15.363639, 11.51318 , 11.412431, 11.883147, 11.692922,\n",
       "       11.03774 , 12.515261, 11.351435, 11.531573, 10.946019, 12.582124,\n",
       "       12.912658, 13.842503, 11.836379, 11.177348, 12.166154, 12.101402,\n",
       "       11.678467, 11.593476, 11.679027, 12.493768, 11.058651, 11.524178,\n",
       "       11.119177, 15.637332, 11.301998, 11.286641, 11.455424, 11.766236,\n",
       "       12.769054, 11.301572, 11.750877, 11.039687])"
      ]
     },
     "execution_count": 30,
     "metadata": {},
     "output_type": "execute_result"
    }
   ],
   "source": [
    "test.iloc[0].to_numpy()"
   ]
  },
  {
   "cell_type": "code",
   "execution_count": 47,
   "metadata": {},
   "outputs": [
    {
     "data": {
      "text/plain": [
       "-4"
      ]
     },
     "execution_count": 47,
     "metadata": {},
     "output_type": "execute_result"
    }
   ],
   "source": [
    "-((sample.shape[0] - 12) % 6)"
   ]
  },
  {
   "cell_type": "code",
   "execution_count": 76,
   "metadata": {},
   "outputs": [
    {
     "name": "stdout",
     "output_type": "stream",
     "text": [
      "(22, 12)\n"
     ]
    },
    {
     "data": {
      "text/plain": [
       "array([[ 12],\n",
       "       [ 18],\n",
       "       [ 24],\n",
       "       [ 30],\n",
       "       [ 36],\n",
       "       [ 42],\n",
       "       [ 48],\n",
       "       [ 54],\n",
       "       [ 60],\n",
       "       [ 66],\n",
       "       [ 72],\n",
       "       [ 78],\n",
       "       [ 84],\n",
       "       [ 90],\n",
       "       [ 96],\n",
       "       [102],\n",
       "       [108],\n",
       "       [114],\n",
       "       [120],\n",
       "       [126],\n",
       "       [132],\n",
       "       [138]])"
      ]
     },
     "execution_count": 76,
     "metadata": {},
     "output_type": "execute_result"
    }
   ],
   "source": [
    "sample_test = np.arange(142)\n",
    "print(np.vstack([sample_test[i:i+12] for i in range(0, sample_test.shape[0] - 12, 6)]).shape)\n",
    "np.vstack([sample_test[i+12] for i in range(0, sample_test.shape[0] - 12, 6)])"
   ]
  },
  {
   "cell_type": "code",
   "execution_count": 65,
   "metadata": {},
   "outputs": [
    {
     "name": "stdout",
     "output_type": "stream",
     "text": [
      "[      nan 15.405452 11.605753 11.583188 11.465624 11.726559 11.397757\n",
      " 11.785649 11.788864 11.529121 11.224122 11.64219  11.145099 15.752359\n",
      " 11.683939 10.963064 11.671251 11.754603 11.427817 11.129736 11.632048\n",
      " 11.140932 11.235749 11.73503  11.138042 16.015151 11.157592 11.465445\n",
      " 11.02028  11.523985 10.970651 11.179077 11.477295 11.107764 11.795765\n",
      " 11.444804 11.748765 15.363639 11.51318  11.412431 11.883147 11.692922\n",
      " 11.03774  12.515261 11.351435 11.531573 10.946019 12.582124 12.912658\n",
      " 13.842503 11.836379 11.177348 12.166154 12.101402 11.678467 11.593476\n",
      " 11.679027 12.493768 11.058651 11.524178 11.119177 15.637332 11.301998\n",
      " 11.286641 11.455424 11.766236]\n"
     ]
    },
    {
     "data": {
      "text/plain": [
       "[array([      nan, 15.405452, 11.605753, 11.583188, 11.465624, 11.726559,\n",
       "        11.397757, 11.785649, 11.788864, 11.529121, 11.224122, 11.64219 ]),\n",
       " array([11.397757, 11.785649, 11.788864, 11.529121, 11.224122, 11.64219 ,\n",
       "        11.145099, 15.752359, 11.683939, 10.963064, 11.671251, 11.754603]),\n",
       " array([11.145099, 15.752359, 11.683939, 10.963064, 11.671251, 11.754603,\n",
       "        11.427817, 11.129736, 11.632048, 11.140932, 11.235749, 11.73503 ]),\n",
       " array([11.427817, 11.129736, 11.632048, 11.140932, 11.235749, 11.73503 ,\n",
       "        11.138042, 16.015151, 11.157592, 11.465445, 11.02028 , 11.523985]),\n",
       " array([11.138042, 16.015151, 11.157592, 11.465445, 11.02028 , 11.523985,\n",
       "        10.970651, 11.179077, 11.477295, 11.107764, 11.795765, 11.444804]),\n",
       " array([10.970651, 11.179077, 11.477295, 11.107764, 11.795765, 11.444804,\n",
       "        11.748765, 15.363639, 11.51318 , 11.412431, 11.883147, 11.692922]),\n",
       " array([11.748765, 15.363639, 11.51318 , 11.412431, 11.883147, 11.692922,\n",
       "        11.03774 , 12.515261, 11.351435, 11.531573, 10.946019, 12.582124]),\n",
       " array([11.03774 , 12.515261, 11.351435, 11.531573, 10.946019, 12.582124,\n",
       "        12.912658, 13.842503, 11.836379, 11.177348, 12.166154, 12.101402]),\n",
       " array([12.912658, 13.842503, 11.836379, 11.177348, 12.166154, 12.101402,\n",
       "        11.678467, 11.593476, 11.679027, 12.493768, 11.058651, 11.524178])]"
      ]
     },
     "execution_count": 65,
     "metadata": {},
     "output_type": "execute_result"
    }
   ],
   "source": [
    "sample = test.iloc[0].to_numpy()\n",
    "sample = sample[:-((sample.shape[0] - 6) % 12)]\n",
    "print(sample)\n",
    "[sample[i:i+12] for i in range(0, sample.shape[0] - 12, 6)]\n"
   ]
  },
  {
   "cell_type": "code",
   "execution_count": 83,
   "metadata": {},
   "outputs": [
    {
     "data": {
      "text/plain": [
       "{'++/aOQtwAA4f8xfzP3apaH83eUKzb2I1pgteVTb9GXfHWHu4X7vI/tjTnJnKJ1oP': array([[      nan, 15.405452, 11.605753, 11.583188, 11.465624, 11.726559,\n",
       "         11.397757, 11.785649, 11.788864, 11.529121, 11.224122, 11.64219 ],\n",
       "        [11.397757, 11.785649, 11.788864, 11.529121, 11.224122, 11.64219 ,\n",
       "         11.145099, 15.752359, 11.683939, 10.963064, 11.671251, 11.754603],\n",
       "        [11.145099, 15.752359, 11.683939, 10.963064, 11.671251, 11.754603,\n",
       "         11.427817, 11.129736, 11.632048, 11.140932, 11.235749, 11.73503 ],\n",
       "        [11.427817, 11.129736, 11.632048, 11.140932, 11.235749, 11.73503 ,\n",
       "         11.138042, 16.015151, 11.157592, 11.465445, 11.02028 , 11.523985],\n",
       "        [11.138042, 16.015151, 11.157592, 11.465445, 11.02028 , 11.523985,\n",
       "         10.970651, 11.179077, 11.477295, 11.107764, 11.795765, 11.444804],\n",
       "        [10.970651, 11.179077, 11.477295, 11.107764, 11.795765, 11.444804,\n",
       "         11.748765, 15.363639, 11.51318 , 11.412431, 11.883147, 11.692922],\n",
       "        [11.748765, 15.363639, 11.51318 , 11.412431, 11.883147, 11.692922,\n",
       "         11.03774 , 12.515261, 11.351435, 11.531573, 10.946019, 12.582124],\n",
       "        [11.03774 , 12.515261, 11.351435, 11.531573, 10.946019, 12.582124,\n",
       "         12.912658, 13.842503, 11.836379, 11.177348, 12.166154, 12.101402],\n",
       "        [12.912658, 13.842503, 11.836379, 11.177348, 12.166154, 12.101402,\n",
       "         11.678467, 11.593476, 11.679027, 12.493768, 11.058651, 11.524178],\n",
       "        [11.678467, 11.593476, 11.679027, 12.493768, 11.058651, 11.524178,\n",
       "         11.119177, 15.637332, 11.301998, 11.286641, 11.455424, 11.766236]]),\n",
       " '++3x/X632+RBxrMiCXl0hgaM8HbCIz43648D/55jURvl0KmU3z5OUI7O/Y1j4e5h': array([[      nan,  9.098192,  9.314151,  9.218272,  8.978617,  9.638697,\n",
       "          9.452609,  8.908335,  9.150687,  9.046569, 10.568675, 13.655914],\n",
       "        [ 9.452609,  8.908335,  9.150687,  9.046569, 10.568675, 13.655914,\n",
       "          9.295941, 10.745331,  9.983889,  9.140613,  9.361872,  9.406928],\n",
       "        [ 9.295941, 10.745331,  9.983889,  9.140613,  9.361872,  9.406928,\n",
       "          8.969461,  9.151184,  8.822282,  9.315876,  8.937946,  9.085623],\n",
       "        [ 8.969461,  9.151184,  8.822282,  9.315876,  8.937946,  9.085623,\n",
       "          9.260378,  8.92663 ,  9.028804,  8.94021 ,  9.157551,  9.521423],\n",
       "        [ 9.260378,  8.92663 ,  9.028804,  8.94021 ,  9.157551,  9.521423,\n",
       "          9.145579,  9.178097,  8.874663,  8.798283,  8.617818, 10.05519 ],\n",
       "        [ 9.145579,  9.178097,  8.874663,  8.798283,  8.617818, 10.05519 ,\n",
       "         12.851627,  9.202987,  8.35321 ,  9.394045,  8.616882,  9.415556],\n",
       "        [12.851627,  9.202987,  8.35321 ,  9.394045,  8.616882,  9.415556,\n",
       "          8.902952,  9.07431 ,  9.036169,  9.106068,  9.111674,  8.593438],\n",
       "        [ 8.902952,  9.07431 ,  9.036169,  9.106068,  9.111674,  8.593438,\n",
       "         14.131101,  8.936181,  9.074307, 10.129167,  8.858978,  9.371193],\n",
       "        [14.131101,  8.936181,  9.074307, 10.129167,  8.858978,  9.371193,\n",
       "          9.168174,  8.995101,  9.034941,  9.294923,  9.111734,  9.233134],\n",
       "        [ 9.168174,  8.995101,  9.034941,  9.294923,  9.111734,  9.233134,\n",
       "         14.09058 ,  8.974794,  9.112736,  9.442635,  9.05745 ,  9.394679]]),\n",
       " '++6f+PhobyB4y2TT3ZsBulQFjoEBi+xSI8Ax3sT7AkUI/lPWkFz85hPHJfEqXcWi': array([[     nan, 4.082571, 4.525662, 5.97508 , 4.535894, 5.848789,\n",
       "         4.08259 , 7.730185, 5.41466 , 4.66491 , 4.730886, 6.02945 ],\n",
       "        [4.08259 , 7.730185, 5.41466 , 4.66491 , 4.730886, 6.02945 ,\n",
       "         4.426107, 4.896959, 4.693545, 5.750771, 4.518919, 4.061108],\n",
       "        [4.426107, 4.896959, 4.693545, 5.750771, 4.518919, 4.061108,\n",
       "         4.788271, 4.287921, 4.323102, 4.777176, 9.050375, 4.68126 ],\n",
       "        [4.788271, 4.287921, 4.323102, 4.777176, 9.050375, 4.68126 ,\n",
       "         4.067781, 4.393625, 4.639861, 5.922975, 3.695157, 5.339741],\n",
       "        [4.067781, 4.393625, 4.639861, 5.922975, 3.695157, 5.339741,\n",
       "         4.728174, 4.17184 , 4.651103, 6.076793, 4.405412, 4.550394],\n",
       "        [4.728174, 4.17184 , 4.651103, 6.076793, 4.405412, 4.550394,\n",
       "         7.99212 , 4.475383, 4.187647, 5.621257, 4.613848, 4.737251],\n",
       "        [7.99212 , 4.475383, 4.187647, 5.621257, 4.613848, 4.737251,\n",
       "         3.979967, 4.743415, 4.064155, 4.457839, 4.602307, 4.257055],\n",
       "        [3.979967, 4.743415, 4.064155, 4.457839, 4.602307, 4.257055,\n",
       "         4.385731, 4.924148, 4.679921, 5.561906, 4.704423, 5.30006 ],\n",
       "        [4.385731, 4.924148, 4.679921, 5.561906, 4.704423, 5.30006 ,\n",
       "         4.364092, 4.648915, 4.557166, 4.512552, 4.162161, 4.318566],\n",
       "        [4.364092, 4.648915, 4.557166, 4.512552, 4.162161, 4.318566,\n",
       "         4.654642, 4.860459, 3.734765, 6.267029, 4.646728, 4.054675]])}"
      ]
     },
     "execution_count": 83,
     "metadata": {},
     "output_type": "execute_result"
    }
   ],
   "source": [
    "sample2 = test.iloc[0:3]\n",
    "def window(ary):\n",
    "    ary = ary[:-((ary.shape[0] - 12) % 6)]\n",
    "    result = np.stack([ary[i:i+12] for i in range(0, ary.shape[0]-6, 6)])\n",
    "    return result\n",
    "\n",
    "a = np.apply_along_axis(window, 1, sample2.to_numpy())\n",
    "{sample2.index[i]: a[i, :, :] for i in range(len(sample2.index))}"
   ]
  },
  {
   "attachments": {},
   "cell_type": "markdown",
   "metadata": {},
   "source": [
    "# Data size\n",
    "server info - vm id, sub id, dep id, vm type, num cores, ram\n",
    "\n",
    "shape: batch_size (vms per batch), (6, dim) if embed separately, dim if concatenated\n",
    "\n",
    "cpu reading - time, cpu usage pair\n",
    "\n",
    "shape: batch_size (vms per batch), seq_len * seq_len"
   ]
  },
  {
   "cell_type": "code",
   "execution_count": 6,
   "metadata": {},
   "outputs": [],
   "source": [
    "input_window = 10\n",
    "output_window = 1\n",
    "stride = 5"
   ]
  },
  {
   "cell_type": "code",
   "execution_count": 7,
   "metadata": {},
   "outputs": [
    {
     "data": {
      "text/plain": [
       "12"
      ]
     },
     "execution_count": 7,
     "metadata": {},
     "output_type": "execute_result"
    }
   ],
   "source": [
    "L = test.shape[1]\n",
    "vm_bs = 512\n",
    "num_vms = test.shape[0] // vm_bs\n",
    "num_samples = (L - input_window - output_window) // stride + 1\n",
    "num_samples"
   ]
  },
  {
   "cell_type": "code",
   "execution_count": 8,
   "metadata": {},
   "outputs": [
    {
     "ename": "ValueError",
     "evalue": "could not broadcast input array from shape (132571,10) into shape (10,)",
     "output_type": "error",
     "traceback": [
      "\u001b[0;31m---------------------------------------------------------------------------\u001b[0m",
      "\u001b[0;31mValueError\u001b[0m                                Traceback (most recent call last)",
      "Cell \u001b[0;32mIn[8], line 15\u001b[0m\n\u001b[1;32m     13\u001b[0m sample_x \u001b[39m=\u001b[39m test\u001b[39m.\u001b[39miloc[:, start_x:end_x]\u001b[39m.\u001b[39mto_numpy() \u001b[39m# 512 vms, 10 timestamps\u001b[39;00m\n\u001b[1;32m     14\u001b[0m sample_y \u001b[39m=\u001b[39m test\u001b[39m.\u001b[39miloc[:, start_y:end_y]\u001b[39m.\u001b[39mto_numpy() \u001b[39m# 512 vms, 10 timestamps\u001b[39;00m\n\u001b[0;32m---> 15\u001b[0m X[i, :] \u001b[39m=\u001b[39m sample_x\n\u001b[1;32m     16\u001b[0m Y[i, :] \u001b[39m=\u001b[39m sample_y\n",
      "\u001b[0;31mValueError\u001b[0m: could not broadcast input array from shape (132571,10) into shape (10,)"
     ]
    }
   ],
   "source": [
    "X = np.zeros([num_samples, input_window])\n",
    "Y = np.zeros([num_samples, output_window])\n",
    "\n",
    "# for batch in tqdm(range(num_vms)):\n",
    "#     batch_start = batch * vm_bs\n",
    "#     batch_end = batch_start + vm_bs\n",
    "#     print(batch_start, batch_end)\n",
    "for i in range(num_samples):\n",
    "    start_x = stride * i\n",
    "    end_x = start_x + input_window\n",
    "    start_y = stride * i + input_window\n",
    "    end_y = start_y + output_window\n",
    "    sample_x = test.iloc[:, start_x:end_x].to_numpy() # 512 vms, 10 timestamps\n",
    "    sample_y = test.iloc[:, start_y:end_y].to_numpy() # 512 vms, 10 timestamps\n",
    "    X[i, :] = sample_x\n",
    "    Y[i, :] = sample_y"
   ]
  },
  {
   "cell_type": "code",
   "execution_count": 2,
   "metadata": {},
   "outputs": [],
   "source": [
    "import torch\n",
    "a = torch.nn.Embedding(160000, 512)"
   ]
  },
  {
   "cell_type": "code",
   "execution_count": 24,
   "metadata": {},
   "outputs": [],
   "source": [
    "vm_ind = {vm_id: i for i, vm_id in enumerate(vm_long['vm id'].unique())}\n",
    "ind_vm = {i:vm_id for i, vm_id in enumerate(vm_long['vm id'].unique())}"
   ]
  },
  {
   "cell_type": "code",
   "execution_count": 19,
   "metadata": {},
   "outputs": [],
   "source": [
    "vm_id = vm_ind[0]\n",
    "data = vm_long[vm_long['vm id'] == vm_id]"
   ]
  },
  {
   "cell_type": "code",
   "execution_count": 25,
   "metadata": {},
   "outputs": [
    {
     "data": {
      "text/plain": [
       "0               0\n",
       "2               1\n",
       "3               2\n",
       "4               3\n",
       "6               4\n",
       "            ...  \n",
       "2013759    162913\n",
       "2013760    162914\n",
       "2013763    162915\n",
       "2013764    162916\n",
       "2013765    162917\n",
       "Name: vm id, Length: 162918, dtype: int64"
      ]
     },
     "execution_count": 25,
     "metadata": {},
     "output_type": "execute_result"
    }
   ],
   "source": [
    "vm_long['vm id'].map(vm_ind)"
   ]
  },
  {
   "cell_type": "code",
   "execution_count": 8,
   "metadata": {},
   "outputs": [
    {
     "data": {
      "text/plain": [
       "5361"
      ]
     },
     "execution_count": 8,
     "metadata": {},
     "output_type": "execute_result"
    }
   ],
   "source": [
    "vm_long['subscription id'].nunique()"
   ]
  },
  {
   "cell_type": "code",
   "execution_count": 10,
   "metadata": {},
   "outputs": [],
   "source": [
    "sub_ind = {sub_id: i for i, sub_id in enumerate(vm_long['subscription id'].unique())}\n",
    "dep_ind = {dep_id: i for i, dep_id in enumerate(vm_long['deployment id'].unique())}"
   ]
  },
  {
   "cell_type": "code",
   "execution_count": 16,
   "metadata": {},
   "outputs": [],
   "source": [
    "from sklearn.preprocessing import MinMaxScaler\n",
    "scaler = MinMaxScaler((0.1, 1))"
   ]
  },
  {
   "cell_type": "code",
   "execution_count": 17,
   "metadata": {},
   "outputs": [
    {
     "data": {
      "text/html": [
       "<div>\n",
       "<style scoped>\n",
       "    .dataframe tbody tr th:only-of-type {\n",
       "        vertical-align: middle;\n",
       "    }\n",
       "\n",
       "    .dataframe tbody tr th {\n",
       "        vertical-align: top;\n",
       "    }\n",
       "\n",
       "    .dataframe thead th {\n",
       "        text-align: right;\n",
       "    }\n",
       "</style>\n",
       "<table border=\"1\" class=\"dataframe\">\n",
       "  <thead>\n",
       "    <tr style=\"text-align: right;\">\n",
       "      <th></th>\n",
       "      <th>vm virtual core count</th>\n",
       "    </tr>\n",
       "  </thead>\n",
       "  <tbody>\n",
       "    <tr>\n",
       "      <th>count</th>\n",
       "      <td>162918.000000</td>\n",
       "    </tr>\n",
       "    <tr>\n",
       "      <th>mean</th>\n",
       "      <td>2.331811</td>\n",
       "    </tr>\n",
       "    <tr>\n",
       "      <th>std</th>\n",
       "      <td>1.986656</td>\n",
       "    </tr>\n",
       "    <tr>\n",
       "      <th>min</th>\n",
       "      <td>1.000000</td>\n",
       "    </tr>\n",
       "    <tr>\n",
       "      <th>25%</th>\n",
       "      <td>1.000000</td>\n",
       "    </tr>\n",
       "    <tr>\n",
       "      <th>50%</th>\n",
       "      <td>2.000000</td>\n",
       "    </tr>\n",
       "    <tr>\n",
       "      <th>75%</th>\n",
       "      <td>4.000000</td>\n",
       "    </tr>\n",
       "    <tr>\n",
       "      <th>max</th>\n",
       "      <td>16.000000</td>\n",
       "    </tr>\n",
       "  </tbody>\n",
       "</table>\n",
       "</div>"
      ],
      "text/plain": [
       "       vm virtual core count\n",
       "count          162918.000000\n",
       "mean                2.331811\n",
       "std                 1.986656\n",
       "min                 1.000000\n",
       "25%                 1.000000\n",
       "50%                 2.000000\n",
       "75%                 4.000000\n",
       "max                16.000000"
      ]
     },
     "execution_count": 17,
     "metadata": {},
     "output_type": "execute_result"
    }
   ],
   "source": [
    "vm_long[['vm virtual core count']].describe()"
   ]
  },
  {
   "cell_type": "code",
   "execution_count": 18,
   "metadata": {},
   "outputs": [
    {
     "data": {
      "text/plain": [
       "array([[0.1 ],\n",
       "       [0.52],\n",
       "       [0.1 ],\n",
       "       ...,\n",
       "       [0.16],\n",
       "       [0.16],\n",
       "       [0.16]])"
      ]
     },
     "execution_count": 18,
     "metadata": {},
     "output_type": "execute_result"
    }
   ],
   "source": [
    "scaler.fit_transform(vm_long[['vm virtual core count']])"
   ]
  },
  {
   "cell_type": "code",
   "execution_count": 23,
   "metadata": {},
   "outputs": [
    {
     "data": {
      "text/plain": [
       "[0.75,\n",
       " 1.75,\n",
       " 2.0,\n",
       " 3.5,\n",
       " 4.0,\n",
       " 7.0,\n",
       " 8.0,\n",
       " 14.0,\n",
       " 16.0,\n",
       " 28.0,\n",
       " 32.0,\n",
       " 56.0,\n",
       " 64.0,\n",
       " 112.0]"
      ]
     },
     "execution_count": 23,
     "metadata": {},
     "output_type": "execute_result"
    }
   ],
   "source": [
    "sorted(vm_long['vm memory (gb)'].unique())"
   ]
  },
  {
   "cell_type": "code",
   "execution_count": 24,
   "metadata": {},
   "outputs": [
    {
     "data": {
      "text/html": [
       "<div>\n",
       "<style scoped>\n",
       "    .dataframe tbody tr th:only-of-type {\n",
       "        vertical-align: middle;\n",
       "    }\n",
       "\n",
       "    .dataframe tbody tr th {\n",
       "        vertical-align: top;\n",
       "    }\n",
       "\n",
       "    .dataframe thead th {\n",
       "        text-align: right;\n",
       "    }\n",
       "</style>\n",
       "<table border=\"1\" class=\"dataframe\">\n",
       "  <thead>\n",
       "    <tr style=\"text-align: right;\">\n",
       "      <th></th>\n",
       "      <th>vm memory (gb)</th>\n",
       "    </tr>\n",
       "  </thead>\n",
       "  <tbody>\n",
       "    <tr>\n",
       "      <th>0</th>\n",
       "      <td>0.75</td>\n",
       "    </tr>\n",
       "    <tr>\n",
       "      <th>2</th>\n",
       "      <td>56.00</td>\n",
       "    </tr>\n",
       "    <tr>\n",
       "      <th>3</th>\n",
       "      <td>1.75</td>\n",
       "    </tr>\n",
       "    <tr>\n",
       "      <th>4</th>\n",
       "      <td>56.00</td>\n",
       "    </tr>\n",
       "    <tr>\n",
       "      <th>6</th>\n",
       "      <td>56.00</td>\n",
       "    </tr>\n",
       "    <tr>\n",
       "      <th>...</th>\n",
       "      <td>...</td>\n",
       "    </tr>\n",
       "    <tr>\n",
       "      <th>2013759</th>\n",
       "      <td>3.50</td>\n",
       "    </tr>\n",
       "    <tr>\n",
       "      <th>2013760</th>\n",
       "      <td>3.50</td>\n",
       "    </tr>\n",
       "    <tr>\n",
       "      <th>2013763</th>\n",
       "      <td>3.50</td>\n",
       "    </tr>\n",
       "    <tr>\n",
       "      <th>2013764</th>\n",
       "      <td>3.50</td>\n",
       "    </tr>\n",
       "    <tr>\n",
       "      <th>2013765</th>\n",
       "      <td>3.50</td>\n",
       "    </tr>\n",
       "  </tbody>\n",
       "</table>\n",
       "<p>162918 rows × 1 columns</p>\n",
       "</div>"
      ],
      "text/plain": [
       "         vm memory (gb)\n",
       "0                  0.75\n",
       "2                 56.00\n",
       "3                  1.75\n",
       "4                 56.00\n",
       "6                 56.00\n",
       "...                 ...\n",
       "2013759            3.50\n",
       "2013760            3.50\n",
       "2013763            3.50\n",
       "2013764            3.50\n",
       "2013765            3.50\n",
       "\n",
       "[162918 rows x 1 columns]"
      ]
     },
     "execution_count": 24,
     "metadata": {},
     "output_type": "execute_result"
    }
   ],
   "source": [
    "vm_long[['vm memory (gb)']]"
   ]
  },
  {
   "cell_type": "code",
   "execution_count": 31,
   "metadata": {},
   "outputs": [
    {
     "name": "stderr",
     "output_type": "stream",
     "text": [
      "/tmp/ipykernel_34988/3707194241.py:1: SettingWithCopyWarning: \n",
      "A value is trying to be set on a copy of a slice from a DataFrame.\n",
      "Try using .loc[row_indexer,col_indexer] = value instead\n",
      "\n",
      "See the caveats in the documentation: https://pandas.pydata.org/pandas-docs/stable/user_guide/indexing.html#returning-a-view-versus-a-copy\n",
      "  vm_long.loc[:, 'vm memory (gb)'] = scaler.fit_transform(vm_long[['vm memory (gb)']])\n"
     ]
    }
   ],
   "source": [
    "vm_long.loc[:, 'vm memory (gb)'] = scaler.fit_transform(vm_long[['vm memory (gb)']])"
   ]
  },
  {
   "cell_type": "code",
   "execution_count": 30,
   "metadata": {},
   "outputs": [
    {
     "data": {
      "text/plain": [
       "0          0.100000\n",
       "2          0.546966\n",
       "3          0.108090\n",
       "4          0.546966\n",
       "6          0.546966\n",
       "             ...   \n",
       "2013759    0.122247\n",
       "2013760    0.122247\n",
       "2013763    0.122247\n",
       "2013764    0.122247\n",
       "2013765    0.122247\n",
       "Name: vm memory (gb), Length: 162918, dtype: float64"
      ]
     },
     "execution_count": 30,
     "metadata": {},
     "output_type": "execute_result"
    }
   ],
   "source": [
    "vm_long.loc[:, 'vm memory (gb)']"
   ]
  },
  {
   "cell_type": "code",
   "execution_count": 34,
   "metadata": {},
   "outputs": [],
   "source": [
    "import seaborn as sns"
   ]
  },
  {
   "cell_type": "code",
   "execution_count": 36,
   "metadata": {},
   "outputs": [
    {
     "data": {
      "text/plain": [
       "<Axes: >"
      ]
     },
     "execution_count": 36,
     "metadata": {},
     "output_type": "execute_result"
    },
    {
     "data": {
      "image/png": "[encoded data removed]",
      "text/plain": [
       "<Figure size 640x480 with 1 Axes>"
      ]
     },
     "metadata": {},
     "output_type": "display_data"
    }
   ],
   "source": [
    "sns.boxplot(vm_long['avg cpu'])"
   ]
  },
  {
   "cell_type": "code",
   "execution_count": 37,
   "metadata": {},
   "outputs": [
    {
     "data": {
      "text/plain": [
       "18636"
      ]
     },
     "execution_count": 37,
     "metadata": {},
     "output_type": "execute_result"
    }
   ],
   "source": [
    "(vm_long['avg cpu'] > 18).sum()"
   ]
  },
  {
   "cell_type": "code",
   "execution_count": 1,
   "metadata": {},
   "outputs": [],
   "source": [
    "from src.dataset import TimeSeriesDataset"
   ]
  },
  {
   "cell_type": "code",
   "execution_count": 2,
   "metadata": {},
   "outputs": [
    {
     "name": "stdout",
     "output_type": "stream",
     "text": [
      "Processing VM table...\n",
      "Processing CPU reading files...\n"
     ]
    },
    {
     "name": "stderr",
     "output_type": "stream",
     "text": [
      "  0%|          | 0/2 [00:00<?, ?it/s]/home/lsh950919/cloud/src/dataset.py:96: SettingWithCopyWarning: \n",
      "A value is trying to be set on a copy of a slice from a DataFrame.\n",
      "Try using .loc[row_indexer,col_indexer] = value instead\n",
      "\n",
      "See the caveats in the documentation: https://pandas.pydata.org/pandas-docs/stable/user_guide/indexing.html#returning-a-view-versus-a-copy\n",
      "  filtered['vm id'] = filtered['vm id'].map(self.vm_ind)\n",
      " 50%|█████     | 1/2 [00:16<00:16, 16.08s/it]/home/lsh950919/cloud/src/dataset.py:96: SettingWithCopyWarning: \n",
      "A value is trying to be set on a copy of a slice from a DataFrame.\n",
      "Try using .loc[row_indexer,col_indexer] = value instead\n",
      "\n",
      "See the caveats in the documentation: https://pandas.pydata.org/pandas-docs/stable/user_guide/indexing.html#returning-a-view-versus-a-copy\n",
      "  filtered['vm id'] = filtered['vm id'].map(self.vm_ind)\n",
      "100%|██████████| 2/2 [00:34<00:00, 17.46s/it]\n"
     ]
    }
   ],
   "source": [
    "data = TimeSeriesDataset(12, 1, file_count = 2)"
   ]
  },
  {
   "cell_type": "code",
   "execution_count": 3,
   "metadata": {},
   "outputs": [],
   "source": [
    "from torch.utils.data import DataLoader"
   ]
  },
  {
   "cell_type": "code",
   "execution_count": 4,
   "metadata": {},
   "outputs": [],
   "source": [
    "a = DataLoader(data, batch_size = 1024, shuffle = True)"
   ]
  },
  {
   "cell_type": "code",
   "execution_count": 5,
   "metadata": {},
   "outputs": [
    {
     "data": {
      "text/html": [
       "<div>\n",
       "<style scoped>\n",
       "    .dataframe tbody tr th:only-of-type {\n",
       "        vertical-align: middle;\n",
       "    }\n",
       "\n",
       "    .dataframe tbody tr th {\n",
       "        vertical-align: top;\n",
       "    }\n",
       "\n",
       "    .dataframe thead th {\n",
       "        text-align: right;\n",
       "    }\n",
       "</style>\n",
       "<table border=\"1\" class=\"dataframe\">\n",
       "  <thead>\n",
       "    <tr style=\"text-align: right;\">\n",
       "      <th></th>\n",
       "      <th>vm id</th>\n",
       "      <th>subscription id</th>\n",
       "      <th>deployment id</th>\n",
       "      <th>vm category</th>\n",
       "      <th>vm virtual core count</th>\n",
       "      <th>vm memory (gb)</th>\n",
       "    </tr>\n",
       "  </thead>\n",
       "  <tbody>\n",
       "    <tr>\n",
       "      <th>0</th>\n",
       "      <td>0</td>\n",
       "      <td>0</td>\n",
       "      <td>0</td>\n",
       "      <td>0</td>\n",
       "      <td>0</td>\n",
       "      <td>0</td>\n",
       "    </tr>\n",
       "    <tr>\n",
       "      <th>1</th>\n",
       "      <td>2</td>\n",
       "      <td>2</td>\n",
       "      <td>2</td>\n",
       "      <td>1</td>\n",
       "      <td>1</td>\n",
       "      <td>2</td>\n",
       "    </tr>\n",
       "    <tr>\n",
       "      <th>2</th>\n",
       "      <td>3</td>\n",
       "      <td>1</td>\n",
       "      <td>3</td>\n",
       "      <td>1</td>\n",
       "      <td>0</td>\n",
       "      <td>1</td>\n",
       "    </tr>\n",
       "    <tr>\n",
       "      <th>3</th>\n",
       "      <td>4</td>\n",
       "      <td>2</td>\n",
       "      <td>2</td>\n",
       "      <td>1</td>\n",
       "      <td>1</td>\n",
       "      <td>2</td>\n",
       "    </tr>\n",
       "    <tr>\n",
       "      <th>4</th>\n",
       "      <td>5</td>\n",
       "      <td>2</td>\n",
       "      <td>2</td>\n",
       "      <td>1</td>\n",
       "      <td>1</td>\n",
       "      <td>2</td>\n",
       "    </tr>\n",
       "    <tr>\n",
       "      <th>...</th>\n",
       "      <td>...</td>\n",
       "      <td>...</td>\n",
       "      <td>...</td>\n",
       "      <td>...</td>\n",
       "      <td>...</td>\n",
       "      <td>...</td>\n",
       "    </tr>\n",
       "    <tr>\n",
       "      <th>135357</th>\n",
       "      <td>229296</td>\n",
       "      <td>5666</td>\n",
       "      <td>18985</td>\n",
       "      <td>0</td>\n",
       "      <td>3</td>\n",
       "      <td>4</td>\n",
       "    </tr>\n",
       "    <tr>\n",
       "      <th>135358</th>\n",
       "      <td>229297</td>\n",
       "      <td>5666</td>\n",
       "      <td>18985</td>\n",
       "      <td>0</td>\n",
       "      <td>3</td>\n",
       "      <td>4</td>\n",
       "    </tr>\n",
       "    <tr>\n",
       "      <th>135359</th>\n",
       "      <td>229298</td>\n",
       "      <td>5667</td>\n",
       "      <td>18987</td>\n",
       "      <td>1</td>\n",
       "      <td>3</td>\n",
       "      <td>4</td>\n",
       "    </tr>\n",
       "    <tr>\n",
       "      <th>135360</th>\n",
       "      <td>229299</td>\n",
       "      <td>5667</td>\n",
       "      <td>18987</td>\n",
       "      <td>0</td>\n",
       "      <td>3</td>\n",
       "      <td>4</td>\n",
       "    </tr>\n",
       "    <tr>\n",
       "      <th>135361</th>\n",
       "      <td>229300</td>\n",
       "      <td>5667</td>\n",
       "      <td>18987</td>\n",
       "      <td>1</td>\n",
       "      <td>3</td>\n",
       "      <td>4</td>\n",
       "    </tr>\n",
       "  </tbody>\n",
       "</table>\n",
       "<p>135362 rows × 6 columns</p>\n",
       "</div>"
      ],
      "text/plain": [
       "         vm id  subscription id  deployment id  vm category  \\\n",
       "0            0                0              0            0   \n",
       "1            2                2              2            1   \n",
       "2            3                1              3            1   \n",
       "3            4                2              2            1   \n",
       "4            5                2              2            1   \n",
       "...        ...              ...            ...          ...   \n",
       "135357  229296             5666          18985            0   \n",
       "135358  229297             5666          18985            0   \n",
       "135359  229298             5667          18987            1   \n",
       "135360  229299             5667          18987            0   \n",
       "135361  229300             5667          18987            1   \n",
       "\n",
       "        vm virtual core count  vm memory (gb)  \n",
       "0                           0               0  \n",
       "1                           1               2  \n",
       "2                           0               1  \n",
       "3                           1               2  \n",
       "4                           1               2  \n",
       "...                       ...             ...  \n",
       "135357                      3               4  \n",
       "135358                      3               4  \n",
       "135359                      3               4  \n",
       "135360                      3               4  \n",
       "135361                      3               4  \n",
       "\n",
       "[135362 rows x 6 columns]"
      ]
     },
     "execution_count": 5,
     "metadata": {},
     "output_type": "execute_result"
    }
   ],
   "source": [
    "data.vm_table"
   ]
  },
  {
   "cell_type": "code",
   "execution_count": 5,
   "metadata": {},
   "outputs": [
    {
     "ename": "KeyError",
     "evalue": "46911",
     "output_type": "error",
     "traceback": [
      "\u001b[0;31m---------------------------------------------------------------------------\u001b[0m",
      "\u001b[0;31mKeyError\u001b[0m                                  Traceback (most recent call last)",
      "File \u001b[0;32m~/anaconda3/envs/cloud/lib/python3.10/site-packages/pandas/core/indexes/base.py:3802\u001b[0m, in \u001b[0;36mIndex.get_loc\u001b[0;34m(self, key, method, tolerance)\u001b[0m\n\u001b[1;32m   3801\u001b[0m \u001b[39mtry\u001b[39;00m:\n\u001b[0;32m-> 3802\u001b[0m     \u001b[39mreturn\u001b[39;00m \u001b[39mself\u001b[39;49m\u001b[39m.\u001b[39;49m_engine\u001b[39m.\u001b[39;49mget_loc(casted_key)\n\u001b[1;32m   3803\u001b[0m \u001b[39mexcept\u001b[39;00m \u001b[39mKeyError\u001b[39;00m \u001b[39mas\u001b[39;00m err:\n",
      "File \u001b[0;32m~/anaconda3/envs/cloud/lib/python3.10/site-packages/pandas/_libs/index.pyx:138\u001b[0m, in \u001b[0;36mpandas._libs.index.IndexEngine.get_loc\u001b[0;34m()\u001b[0m\n",
      "File \u001b[0;32m~/anaconda3/envs/cloud/lib/python3.10/site-packages/pandas/_libs/index.pyx:165\u001b[0m, in \u001b[0;36mpandas._libs.index.IndexEngine.get_loc\u001b[0;34m()\u001b[0m\n",
      "File \u001b[0;32mpandas/_libs/hashtable_class_helper.pxi:2263\u001b[0m, in \u001b[0;36mpandas._libs.hashtable.Int64HashTable.get_item\u001b[0;34m()\u001b[0m\n",
      "File \u001b[0;32mpandas/_libs/hashtable_class_helper.pxi:2273\u001b[0m, in \u001b[0;36mpandas._libs.hashtable.Int64HashTable.get_item\u001b[0;34m()\u001b[0m\n",
      "\u001b[0;31mKeyError\u001b[0m: 46911",
      "\nThe above exception was the direct cause of the following exception:\n",
      "\u001b[0;31mKeyError\u001b[0m                                  Traceback (most recent call last)",
      "Cell \u001b[0;32mIn[5], line 1\u001b[0m\n\u001b[0;32m----> 1\u001b[0m \u001b[39mnext\u001b[39;49m(\u001b[39miter\u001b[39;49m(a))\n",
      "File \u001b[0;32m~/anaconda3/envs/cloud/lib/python3.10/site-packages/torch/utils/data/dataloader.py:633\u001b[0m, in \u001b[0;36m_BaseDataLoaderIter.__next__\u001b[0;34m(self)\u001b[0m\n\u001b[1;32m    630\u001b[0m \u001b[39mif\u001b[39;00m \u001b[39mself\u001b[39m\u001b[39m.\u001b[39m_sampler_iter \u001b[39mis\u001b[39;00m \u001b[39mNone\u001b[39;00m:\n\u001b[1;32m    631\u001b[0m     \u001b[39m# TODO(https://github.com/pytorch/pytorch/issues/76750)\u001b[39;00m\n\u001b[1;32m    632\u001b[0m     \u001b[39mself\u001b[39m\u001b[39m.\u001b[39m_reset()  \u001b[39m# type: ignore[call-arg]\u001b[39;00m\n\u001b[0;32m--> 633\u001b[0m data \u001b[39m=\u001b[39m \u001b[39mself\u001b[39;49m\u001b[39m.\u001b[39;49m_next_data()\n\u001b[1;32m    634\u001b[0m \u001b[39mself\u001b[39m\u001b[39m.\u001b[39m_num_yielded \u001b[39m+\u001b[39m\u001b[39m=\u001b[39m \u001b[39m1\u001b[39m\n\u001b[1;32m    635\u001b[0m \u001b[39mif\u001b[39;00m \u001b[39mself\u001b[39m\u001b[39m.\u001b[39m_dataset_kind \u001b[39m==\u001b[39m _DatasetKind\u001b[39m.\u001b[39mIterable \u001b[39mand\u001b[39;00m \\\n\u001b[1;32m    636\u001b[0m         \u001b[39mself\u001b[39m\u001b[39m.\u001b[39m_IterableDataset_len_called \u001b[39mis\u001b[39;00m \u001b[39mnot\u001b[39;00m \u001b[39mNone\u001b[39;00m \u001b[39mand\u001b[39;00m \\\n\u001b[1;32m    637\u001b[0m         \u001b[39mself\u001b[39m\u001b[39m.\u001b[39m_num_yielded \u001b[39m>\u001b[39m \u001b[39mself\u001b[39m\u001b[39m.\u001b[39m_IterableDataset_len_called:\n",
      "File \u001b[0;32m~/anaconda3/envs/cloud/lib/python3.10/site-packages/torch/utils/data/dataloader.py:677\u001b[0m, in \u001b[0;36m_SingleProcessDataLoaderIter._next_data\u001b[0;34m(self)\u001b[0m\n\u001b[1;32m    675\u001b[0m \u001b[39mdef\u001b[39;00m \u001b[39m_next_data\u001b[39m(\u001b[39mself\u001b[39m):\n\u001b[1;32m    676\u001b[0m     index \u001b[39m=\u001b[39m \u001b[39mself\u001b[39m\u001b[39m.\u001b[39m_next_index()  \u001b[39m# may raise StopIteration\u001b[39;00m\n\u001b[0;32m--> 677\u001b[0m     data \u001b[39m=\u001b[39m \u001b[39mself\u001b[39;49m\u001b[39m.\u001b[39;49m_dataset_fetcher\u001b[39m.\u001b[39;49mfetch(index)  \u001b[39m# may raise StopIteration\u001b[39;00m\n\u001b[1;32m    678\u001b[0m     \u001b[39mif\u001b[39;00m \u001b[39mself\u001b[39m\u001b[39m.\u001b[39m_pin_memory:\n\u001b[1;32m    679\u001b[0m         data \u001b[39m=\u001b[39m _utils\u001b[39m.\u001b[39mpin_memory\u001b[39m.\u001b[39mpin_memory(data, \u001b[39mself\u001b[39m\u001b[39m.\u001b[39m_pin_memory_device)\n",
      "File \u001b[0;32m~/anaconda3/envs/cloud/lib/python3.10/site-packages/torch/utils/data/_utils/fetch.py:51\u001b[0m, in \u001b[0;36m_MapDatasetFetcher.fetch\u001b[0;34m(self, possibly_batched_index)\u001b[0m\n\u001b[1;32m     49\u001b[0m         data \u001b[39m=\u001b[39m \u001b[39mself\u001b[39m\u001b[39m.\u001b[39mdataset\u001b[39m.\u001b[39m__getitems__(possibly_batched_index)\n\u001b[1;32m     50\u001b[0m     \u001b[39melse\u001b[39;00m:\n\u001b[0;32m---> 51\u001b[0m         data \u001b[39m=\u001b[39m [\u001b[39mself\u001b[39m\u001b[39m.\u001b[39mdataset[idx] \u001b[39mfor\u001b[39;00m idx \u001b[39min\u001b[39;00m possibly_batched_index]\n\u001b[1;32m     52\u001b[0m \u001b[39melse\u001b[39;00m:\n\u001b[1;32m     53\u001b[0m     data \u001b[39m=\u001b[39m \u001b[39mself\u001b[39m\u001b[39m.\u001b[39mdataset[possibly_batched_index]\n",
      "File \u001b[0;32m~/anaconda3/envs/cloud/lib/python3.10/site-packages/torch/utils/data/_utils/fetch.py:51\u001b[0m, in \u001b[0;36m<listcomp>\u001b[0;34m(.0)\u001b[0m\n\u001b[1;32m     49\u001b[0m         data \u001b[39m=\u001b[39m \u001b[39mself\u001b[39m\u001b[39m.\u001b[39mdataset\u001b[39m.\u001b[39m__getitems__(possibly_batched_index)\n\u001b[1;32m     50\u001b[0m     \u001b[39melse\u001b[39;00m:\n\u001b[0;32m---> 51\u001b[0m         data \u001b[39m=\u001b[39m [\u001b[39mself\u001b[39;49m\u001b[39m.\u001b[39;49mdataset[idx] \u001b[39mfor\u001b[39;00m idx \u001b[39min\u001b[39;00m possibly_batched_index]\n\u001b[1;32m     52\u001b[0m \u001b[39melse\u001b[39;00m:\n\u001b[1;32m     53\u001b[0m     data \u001b[39m=\u001b[39m \u001b[39mself\u001b[39m\u001b[39m.\u001b[39mdataset[possibly_batched_index]\n",
      "File \u001b[0;32m~/cloud/src/dataset.py:116\u001b[0m, in \u001b[0;36mTimeSeriesDataset.__getitem__\u001b[0;34m(self, index)\u001b[0m\n\u001b[1;32m    107\u001b[0m vm_id \u001b[39m=\u001b[39m \u001b[39mself\u001b[39m\u001b[39m.\u001b[39mvm_table\u001b[39m.\u001b[39mloc[index, \u001b[39m'\u001b[39m\u001b[39mvm id\u001b[39m\u001b[39m'\u001b[39m]\n\u001b[1;32m    108\u001b[0m \u001b[39m'''\u001b[39;00m\n\u001b[1;32m    109\u001b[0m \u001b[39mReturn:\u001b[39;00m\n\u001b[1;32m    110\u001b[0m \u001b[39mVM info (6)\u001b[39;00m\n\u001b[0;32m   (...)\u001b[0m\n\u001b[1;32m    113\u001b[0m \u001b[39mCPU label (1)\u001b[39;00m\n\u001b[1;32m    114\u001b[0m \u001b[39m'''\u001b[39;00m\n\u001b[1;32m    115\u001b[0m \u001b[39mreturn\u001b[39;00m torch\u001b[39m.\u001b[39mfrom_numpy(\u001b[39mself\u001b[39m\u001b[39m.\u001b[39mvm_table\u001b[39m.\u001b[39mloc[index]\u001b[39m.\u001b[39mto_numpy()), \\\n\u001b[0;32m--> 116\u001b[0m        torch\u001b[39m.\u001b[39mfrom_numpy(\u001b[39mself\u001b[39;49m\u001b[39m.\u001b[39;49mavg_cpu_label\u001b[39m.\u001b[39;49mloc[index]\u001b[39m.\u001b[39mto_numpy()), \\\n\u001b[1;32m    117\u001b[0m        torch\u001b[39m.\u001b[39mfrom_numpy(\u001b[39mself\u001b[39m\u001b[39m.\u001b[39mcpu_data[vm_id]), \\\n\u001b[1;32m    118\u001b[0m        torch\u001b[39m.\u001b[39mfrom_numpy(\u001b[39mself\u001b[39m\u001b[39m.\u001b[39mcpu_label[vm_id])\n",
      "File \u001b[0;32m~/anaconda3/envs/cloud/lib/python3.10/site-packages/pandas/core/indexing.py:1073\u001b[0m, in \u001b[0;36m_LocationIndexer.__getitem__\u001b[0;34m(self, key)\u001b[0m\n\u001b[1;32m   1070\u001b[0m axis \u001b[39m=\u001b[39m \u001b[39mself\u001b[39m\u001b[39m.\u001b[39maxis \u001b[39mor\u001b[39;00m \u001b[39m0\u001b[39m\n\u001b[1;32m   1072\u001b[0m maybe_callable \u001b[39m=\u001b[39m com\u001b[39m.\u001b[39mapply_if_callable(key, \u001b[39mself\u001b[39m\u001b[39m.\u001b[39mobj)\n\u001b[0;32m-> 1073\u001b[0m \u001b[39mreturn\u001b[39;00m \u001b[39mself\u001b[39;49m\u001b[39m.\u001b[39;49m_getitem_axis(maybe_callable, axis\u001b[39m=\u001b[39;49maxis)\n",
      "File \u001b[0;32m~/anaconda3/envs/cloud/lib/python3.10/site-packages/pandas/core/indexing.py:1312\u001b[0m, in \u001b[0;36m_LocIndexer._getitem_axis\u001b[0;34m(self, key, axis)\u001b[0m\n\u001b[1;32m   1310\u001b[0m \u001b[39m# fall thru to straight lookup\u001b[39;00m\n\u001b[1;32m   1311\u001b[0m \u001b[39mself\u001b[39m\u001b[39m.\u001b[39m_validate_key(key, axis)\n\u001b[0;32m-> 1312\u001b[0m \u001b[39mreturn\u001b[39;00m \u001b[39mself\u001b[39;49m\u001b[39m.\u001b[39;49m_get_label(key, axis\u001b[39m=\u001b[39;49maxis)\n",
      "File \u001b[0;32m~/anaconda3/envs/cloud/lib/python3.10/site-packages/pandas/core/indexing.py:1260\u001b[0m, in \u001b[0;36m_LocIndexer._get_label\u001b[0;34m(self, label, axis)\u001b[0m\n\u001b[1;32m   1258\u001b[0m \u001b[39mdef\u001b[39;00m \u001b[39m_get_label\u001b[39m(\u001b[39mself\u001b[39m, label, axis: \u001b[39mint\u001b[39m):\n\u001b[1;32m   1259\u001b[0m     \u001b[39m# GH#5567 this will fail if the label is not present in the axis.\u001b[39;00m\n\u001b[0;32m-> 1260\u001b[0m     \u001b[39mreturn\u001b[39;00m \u001b[39mself\u001b[39;49m\u001b[39m.\u001b[39;49mobj\u001b[39m.\u001b[39;49mxs(label, axis\u001b[39m=\u001b[39;49maxis)\n",
      "File \u001b[0;32m~/anaconda3/envs/cloud/lib/python3.10/site-packages/pandas/core/generic.py:4056\u001b[0m, in \u001b[0;36mNDFrame.xs\u001b[0;34m(self, key, axis, level, drop_level)\u001b[0m\n\u001b[1;32m   4054\u001b[0m             new_index \u001b[39m=\u001b[39m index[loc]\n\u001b[1;32m   4055\u001b[0m \u001b[39melse\u001b[39;00m:\n\u001b[0;32m-> 4056\u001b[0m     loc \u001b[39m=\u001b[39m index\u001b[39m.\u001b[39;49mget_loc(key)\n\u001b[1;32m   4058\u001b[0m     \u001b[39mif\u001b[39;00m \u001b[39misinstance\u001b[39m(loc, np\u001b[39m.\u001b[39mndarray):\n\u001b[1;32m   4059\u001b[0m         \u001b[39mif\u001b[39;00m loc\u001b[39m.\u001b[39mdtype \u001b[39m==\u001b[39m np\u001b[39m.\u001b[39mbool_:\n",
      "File \u001b[0;32m~/anaconda3/envs/cloud/lib/python3.10/site-packages/pandas/core/indexes/base.py:3804\u001b[0m, in \u001b[0;36mIndex.get_loc\u001b[0;34m(self, key, method, tolerance)\u001b[0m\n\u001b[1;32m   3802\u001b[0m     \u001b[39mreturn\u001b[39;00m \u001b[39mself\u001b[39m\u001b[39m.\u001b[39m_engine\u001b[39m.\u001b[39mget_loc(casted_key)\n\u001b[1;32m   3803\u001b[0m \u001b[39mexcept\u001b[39;00m \u001b[39mKeyError\u001b[39;00m \u001b[39mas\u001b[39;00m err:\n\u001b[0;32m-> 3804\u001b[0m     \u001b[39mraise\u001b[39;00m \u001b[39mKeyError\u001b[39;00m(key) \u001b[39mfrom\u001b[39;00m \u001b[39merr\u001b[39;00m\n\u001b[1;32m   3805\u001b[0m \u001b[39mexcept\u001b[39;00m \u001b[39mTypeError\u001b[39;00m:\n\u001b[1;32m   3806\u001b[0m     \u001b[39m# If we have a listlike key, _check_indexing_error will raise\u001b[39;00m\n\u001b[1;32m   3807\u001b[0m     \u001b[39m#  InvalidIndexError. Otherwise we fall through and re-raise\u001b[39;00m\n\u001b[1;32m   3808\u001b[0m     \u001b[39m#  the TypeError.\u001b[39;00m\n\u001b[1;32m   3809\u001b[0m     \u001b[39mself\u001b[39m\u001b[39m.\u001b[39m_check_indexing_error(key)\n",
      "\u001b[0;31mKeyError\u001b[0m: 46911"
     ]
    }
   ],
   "source": [
    "next(iter(a))"
   ]
  },
  {
   "cell_type": "code",
   "execution_count": 9,
   "metadata": {},
   "outputs": [
    {
     "data": {
      "text/plain": [
       "(torch.Size([1024, 6]), torch.Size([1024, 21, 12]), torch.Size([1024, 21, 1]))"
      ]
     },
     "execution_count": 9,
     "metadata": {},
     "output_type": "execute_result"
    }
   ],
   "source": [
    "vm.shape, cpu.shape, cpu_label.shape"
   ]
  },
  {
   "cell_type": "code",
   "execution_count": 9,
   "metadata": {},
   "outputs": [
    {
     "data": {
      "text/plain": [
       "True"
      ]
     },
     "execution_count": 9,
     "metadata": {},
     "output_type": "execute_result"
    }
   ],
   "source": [
    "228466 in data.vm_table['vm id'].unique()"
   ]
  },
  {
   "cell_type": "code",
   "execution_count": 10,
   "metadata": {},
   "outputs": [
    {
     "data": {
      "text/plain": [
       "False"
      ]
     },
     "execution_count": 10,
     "metadata": {},
     "output_type": "execute_result"
    }
   ],
   "source": [
    "228466 in data.cpu_data.keys()"
   ]
  },
  {
   "cell_type": "code",
   "execution_count": 3,
   "metadata": {},
   "outputs": [],
   "source": [
    "from sklearn.model_selection import train_test_split\n",
    "import pandas as pd\n",
    "vm_table = pd.read_csv('/home/lsh950919/cloud/data/vmtable.csv')\n",
    "VM_COLUMNS = [content.split(',')[2] for content in open('/home/lsh950919/cloud/data/schema.csv').readlines() if content.startswith('vmtable')]\n",
    "CPU_COLUMNS = [content.split(',')[2] for content in open('/home/lsh950919/cloud/data/schema.csv').readlines() if content.startswith('vm_cpu_readings')]\n",
    "vm_table.columns = VM_COLUMNS\n",
    "vm_ids = vm_table['vm id']\n",
    "\n",
    "train_ids, val_ids = train_test_split(vm_ids, test_size = 0.2)\n",
    "val_ids, test_ids = train_test_split(val_ids, test_size = 0.5)"
   ]
  },
  {
   "cell_type": "code",
   "execution_count": 4,
   "metadata": {},
   "outputs": [
    {
     "data": {
      "text/plain": [
       "1119861    lzl9F4kfU/3/Kppd+qQ+eXNe5z0svgIIaOR3gvdd7uIcIQ...\n",
       "1247625    0a2+Jzax3qOhDjPRV2NfXpnG+HyE+uoaeWdPCOqAC1zawW...\n",
       "1655402    bkD30/nFc6smM5gHsBuWE0GgCaGZvt6ls8MzhoHapf9sow...\n",
       "1763697    G2Ntrjr68TcyGtC0mIBZc5Ok1GS/nEnqp1Xt+73aOZOvwL...\n",
       "1938848    8Pd+pyV3zJBG8oclPLbBKa0P1Q/vCTey9ueWEoWn0CfHG6...\n",
       "                                 ...                        \n",
       "385928     DVnjbOjeTw6YjtGzv2rQoTfpPVWjGOQjojR9shS3xne6DP...\n",
       "1516387    baRWo7jhvv58fp5yqNOkz0rra2YElInSpjbgqmTfjxvf2s...\n",
       "2010501    fjRO3hXMuA4UqQZiy1GFAtGGplupwyGe6IkxGzOWijCsKI...\n",
       "683165     zlXIFJILhLDr40vQt44Mde7777mBtam/hjtSaAFNmuLtXN...\n",
       "941197     IRMYn3NoD9X46XqfNbMr8f3pNNLI7MeUAAm/2CVVUHrWhO...\n",
       "Name: vm id, Length: 1611012, dtype: object"
      ]
     },
     "execution_count": 4,
     "metadata": {},
     "output_type": "execute_result"
    }
   ],
   "source": [
    "train_ids"
   ]
  },
  {
   "cell_type": "code",
   "execution_count": 1,
   "metadata": {},
   "outputs": [],
   "source": [
    "with open('./data/links.txt', 'r') as file:\n",
    "    links = file.readlines()\n",
    "numbers = [5, 6, 7, 13, 23, 24, 26, 36, 41, 42, 43, 48]\n",
    "    "
   ]
  },
  {
   "cell_type": "code",
   "execution_count": 4,
   "metadata": {},
   "outputs": [
    {
     "data": {
      "text/plain": [
       "['https://azurecloudpublicdataset.blob.core.windows.net/azurepublicdataset/trace_data/vm_cpu_readings/vm_cpu_readings-file-5-of-125.csv.gz\\n',\n",
       " 'https://azurecloudpublicdataset.blob.core.windows.net/azurepublicdataset/trace_data/vm_cpu_readings/vm_cpu_readings-file-6-of-125.csv.gz\\n',\n",
       " 'https://azurecloudpublicdataset.blob.core.windows.net/azurepublicdataset/trace_data/vm_cpu_readings/vm_cpu_readings-file-7-of-125.csv.gz\\n',\n",
       " 'https://azurecloudpublicdataset.blob.core.windows.net/azurepublicdataset/trace_data/vm_cpu_readings/vm_cpu_readings-file-13-of-125.csv.gz\\n',\n",
       " 'https://azurecloudpublicdataset.blob.core.windows.net/azurepublicdataset/trace_data/vm_cpu_readings/vm_cpu_readings-file-23-of-125.csv.gz\\n',\n",
       " 'https://azurecloudpublicdataset.blob.core.windows.net/azurepublicdataset/trace_data/vm_cpu_readings/vm_cpu_readings-file-24-of-125.csv.gz\\n',\n",
       " 'https://azurecloudpublicdataset.blob.core.windows.net/azurepublicdataset/trace_data/vm_cpu_readings/vm_cpu_readings-file-26-of-125.csv.gz\\n',\n",
       " 'https://azurecloudpublicdataset.blob.core.windows.net/azurepublicdataset/trace_data/vm_cpu_readings/vm_cpu_readings-file-36-of-125.csv.gz\\n',\n",
       " 'https://azurecloudpublicdataset.blob.core.windows.net/azurepublicdataset/trace_data/vm_cpu_readings/vm_cpu_readings-file-41-of-125.csv.gz\\n',\n",
       " 'https://azurecloudpublicdataset.blob.core.windows.net/azurepublicdataset/trace_data/vm_cpu_readings/vm_cpu_readings-file-42-of-125.csv.gz\\n',\n",
       " 'https://azurecloudpublicdataset.blob.core.windows.net/azurepublicdataset/trace_data/vm_cpu_readings/vm_cpu_readings-file-43-of-125.csv.gz\\n',\n",
       " 'https://azurecloudpublicdataset.blob.core.windows.net/azurepublicdataset/trace_data/vm_cpu_readings/vm_cpu_readings-file-48-of-125.csv.gz\\n']"
      ]
     },
     "execution_count": 4,
     "metadata": {},
     "output_type": "execute_result"
    }
   ],
   "source": [
    "[f'https://azurecloudpublicdataset.blob.core.windows.net/azurepublicdataset/trace_data/vm_cpu_readings/vm_cpu_readings-file-{number}-of-125.csv.gz\\n' for number in numbers]"
   ]
  },
  {
   "cell_type": "code",
   "execution_count": null,
   "metadata": {},
   "outputs": [],
   "source": [
    "def download(url, path = '/scratch/lhk/cpu_readings'):\n",
    "    file_name = os.path.basename(url)\n",
    "    print('Downloading:', file_name)\n",
    "    os.system(f\"wget -P {path} {url}\")\n",
    "    os.system(f\"gunzip {path}/{file_name}\")\n",
    "\n",
    "def unzip(filename):\n",
    "    os.system(f'gunzip {filename}')\n",
    "\n",
    "def split(file_path, train_ids, val_ids, test_ids):\n",
    "    filename = os.path.basename(file_path)\n",
    "    print(f'Splitting {filename}')\n",
    "    filename, extension = filename.split('.')\n",
    "    df = pd.read_csv(file_path)\n",
    "    df.columns = CPU_COLUMNS\n",
    "    \n",
    "    train_df = df[df['vm id'].isin(train_ids)]\n",
    "    val_df = df[df['vm id'].isin(val_ids)]\n",
    "    test_df = df[df['vm id'].isin(test_ids)]\n",
    "\n",
    "    train_df.to_csv(f'/scratch/lhk/cpu_readings/train/{filename}-train.{extension}', index = False)\n",
    "    val_df.to_csv(f'/scratch/lhk/cpu_readings/val/{filename}-val{extension}', index = False)\n",
    "    test_df.to_csv(f'/scratch/lhk/cpu_readings/test/{filename}-test.{extension}', index = False)\n",
    "\n",
    "    os.remove(file_path)"
   ]
  },
  {
   "cell_type": "code",
   "execution_count": null,
   "metadata": {},
   "outputs": [],
   "source": [
    "cpus = cpu_count()\n",
    "pool = Pool(cpus)\n",
    "for url in tqdm(links):\n",
    "    pool.apply_async(download, args = (url, ))\n",
    "pool.close()\n",
    "pool.join()\n",
    "\n",
    "cpu_reading_paths = glob('/scratch/lhk/cpu_readings/vm_cpu_readings*.csv')\n",
    "vm_table = pd.read_csv('/home/lsh950919/cloud/data/vmtable.csv')\n",
    "VM_COLUMNS = [content.split(',')[2] for content in open('/home/lsh950919/cloud/data/schema.csv').readlines() if content.startswith('vmtable')]\n",
    "CPU_COLUMNS = [content.split(',')[2] for content in open('/home/lsh950919/cloud/data/schema.csv').readlines() if content.startswith('vm_cpu_readings')]\n",
    "vm_table.columns = VM_COLUMNS\n",
    "vm_ids = vm_table['vm id']\n",
    "\n",
    "train_ids, val_ids = train_test_split(vm_ids, test_size = 0.2)\n",
    "val_ids, test_ids = train_test_split(val_ids, test_size = 0.5)\n",
    "\n",
    "# import ipdb; ipdb.set_trace()\n",
    "os.makedirs('/scratch/lhk/cpu_readings/train', exist_ok = True)\n",
    "os.makedirs('/scratch/lhk/cpu_readings/val', exist_ok = True)\n",
    "os.makedirs('/scratch/lhk/cpu_readings/test', exist_ok = True)\n",
    "\n",
    "pool = Pool(cpus)\n",
    "for file_path in tqdm(cpu_reading_paths):\n",
    "    pool.apply_async(split, args = (file_path, train_ids, val_ids, test_ids))\n",
    "pool.close()\n",
    "pool.join()"
   ]
  }
 ],
 "metadata": {
  "kernelspec": {
   "display_name": "cloud",
   "language": "python",
   "name": "python3"
  },
  "language_info": {
   "codemirror_mode": {
    "name": "ipython",
    "version": 3
   },
   "file_extension": ".py",
   "mimetype": "text/x-python",
   "name": "python",
   "nbconvert_exporter": "python",
   "pygments_lexer": "ipython3",
   "version": "3.10.10"
  },
  "orig_nbformat": 4
 },
 "nbformat": 4,
 "nbformat_minor": 2
}
